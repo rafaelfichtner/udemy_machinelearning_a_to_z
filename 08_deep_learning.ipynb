{
 "cells": [
  {
   "cell_type": "markdown",
   "metadata": {},
   "source": [
    "# Parte 8 | Deep Learning"
   ]
  },
  {
   "cell_type": "code",
   "execution_count": 1,
   "metadata": {},
   "outputs": [],
   "source": [
    "# Importing the libraries\n",
    "\n",
    "import numpy as np\n",
    "import matplotlib.pyplot as plt\n",
    "import pandas as pd"
   ]
  },
  {
   "cell_type": "markdown",
   "metadata": {},
   "source": [
    "### Seção 31 | Artificial Neural Network (ANN)"
   ]
  },
  {
   "cell_type": "markdown",
   "metadata": {},
   "source": [
    "##### Part 1 - Setting up"
   ]
  },
  {
   "cell_type": "code",
   "execution_count": 2,
   "metadata": {},
   "outputs": [],
   "source": [
    "dss31 = pd.read_csv('C:\\\\Users\\\\rafae\\\\Dropbox\\\\Data_Science\\\\Cursos\\\\A_to_Z\\\\Part 8 - Deep Learning\\\\Section 39 - Artificial Neural Networks (ANN)\\\\Churn_Modelling.csv')"
   ]
  },
  {
   "cell_type": "code",
   "execution_count": 3,
   "metadata": {},
   "outputs": [
    {
     "data": {
      "text/html": [
       "<div>\n",
       "<style scoped>\n",
       "    .dataframe tbody tr th:only-of-type {\n",
       "        vertical-align: middle;\n",
       "    }\n",
       "\n",
       "    .dataframe tbody tr th {\n",
       "        vertical-align: top;\n",
       "    }\n",
       "\n",
       "    .dataframe thead th {\n",
       "        text-align: right;\n",
       "    }\n",
       "</style>\n",
       "<table border=\"1\" class=\"dataframe\">\n",
       "  <thead>\n",
       "    <tr style=\"text-align: right;\">\n",
       "      <th></th>\n",
       "      <th>RowNumber</th>\n",
       "      <th>CustomerId</th>\n",
       "      <th>Surname</th>\n",
       "      <th>CreditScore</th>\n",
       "      <th>Geography</th>\n",
       "      <th>Gender</th>\n",
       "      <th>Age</th>\n",
       "      <th>Tenure</th>\n",
       "      <th>Balance</th>\n",
       "      <th>NumOfProducts</th>\n",
       "      <th>HasCrCard</th>\n",
       "      <th>IsActiveMember</th>\n",
       "      <th>EstimatedSalary</th>\n",
       "      <th>Exited</th>\n",
       "    </tr>\n",
       "  </thead>\n",
       "  <tbody>\n",
       "    <tr>\n",
       "      <th>0</th>\n",
       "      <td>1</td>\n",
       "      <td>15634602</td>\n",
       "      <td>Hargrave</td>\n",
       "      <td>619</td>\n",
       "      <td>France</td>\n",
       "      <td>Female</td>\n",
       "      <td>42</td>\n",
       "      <td>2</td>\n",
       "      <td>0.00</td>\n",
       "      <td>1</td>\n",
       "      <td>1</td>\n",
       "      <td>1</td>\n",
       "      <td>101348.88</td>\n",
       "      <td>1</td>\n",
       "    </tr>\n",
       "    <tr>\n",
       "      <th>1</th>\n",
       "      <td>2</td>\n",
       "      <td>15647311</td>\n",
       "      <td>Hill</td>\n",
       "      <td>608</td>\n",
       "      <td>Spain</td>\n",
       "      <td>Female</td>\n",
       "      <td>41</td>\n",
       "      <td>1</td>\n",
       "      <td>83807.86</td>\n",
       "      <td>1</td>\n",
       "      <td>0</td>\n",
       "      <td>1</td>\n",
       "      <td>112542.58</td>\n",
       "      <td>0</td>\n",
       "    </tr>\n",
       "    <tr>\n",
       "      <th>2</th>\n",
       "      <td>3</td>\n",
       "      <td>15619304</td>\n",
       "      <td>Onio</td>\n",
       "      <td>502</td>\n",
       "      <td>France</td>\n",
       "      <td>Female</td>\n",
       "      <td>42</td>\n",
       "      <td>8</td>\n",
       "      <td>159660.80</td>\n",
       "      <td>3</td>\n",
       "      <td>1</td>\n",
       "      <td>0</td>\n",
       "      <td>113931.57</td>\n",
       "      <td>1</td>\n",
       "    </tr>\n",
       "    <tr>\n",
       "      <th>3</th>\n",
       "      <td>4</td>\n",
       "      <td>15701354</td>\n",
       "      <td>Boni</td>\n",
       "      <td>699</td>\n",
       "      <td>France</td>\n",
       "      <td>Female</td>\n",
       "      <td>39</td>\n",
       "      <td>1</td>\n",
       "      <td>0.00</td>\n",
       "      <td>2</td>\n",
       "      <td>0</td>\n",
       "      <td>0</td>\n",
       "      <td>93826.63</td>\n",
       "      <td>0</td>\n",
       "    </tr>\n",
       "    <tr>\n",
       "      <th>4</th>\n",
       "      <td>5</td>\n",
       "      <td>15737888</td>\n",
       "      <td>Mitchell</td>\n",
       "      <td>850</td>\n",
       "      <td>Spain</td>\n",
       "      <td>Female</td>\n",
       "      <td>43</td>\n",
       "      <td>2</td>\n",
       "      <td>125510.82</td>\n",
       "      <td>1</td>\n",
       "      <td>1</td>\n",
       "      <td>1</td>\n",
       "      <td>79084.10</td>\n",
       "      <td>0</td>\n",
       "    </tr>\n",
       "  </tbody>\n",
       "</table>\n",
       "</div>"
      ],
      "text/plain": [
       "   RowNumber  CustomerId   Surname  CreditScore Geography  Gender  Age  \\\n",
       "0          1    15634602  Hargrave          619    France  Female   42   \n",
       "1          2    15647311      Hill          608     Spain  Female   41   \n",
       "2          3    15619304      Onio          502    France  Female   42   \n",
       "3          4    15701354      Boni          699    France  Female   39   \n",
       "4          5    15737888  Mitchell          850     Spain  Female   43   \n",
       "\n",
       "   Tenure    Balance  NumOfProducts  HasCrCard  IsActiveMember  \\\n",
       "0       2       0.00              1          1               1   \n",
       "1       1   83807.86              1          0               1   \n",
       "2       8  159660.80              3          1               0   \n",
       "3       1       0.00              2          0               0   \n",
       "4       2  125510.82              1          1               1   \n",
       "\n",
       "   EstimatedSalary  Exited  \n",
       "0        101348.88       1  \n",
       "1        112542.58       0  \n",
       "2        113931.57       1  \n",
       "3         93826.63       0  \n",
       "4         79084.10       0  "
      ]
     },
     "execution_count": 3,
     "metadata": {},
     "output_type": "execute_result"
    }
   ],
   "source": [
    "dss31.head()"
   ]
  },
  {
   "cell_type": "code",
   "execution_count": 4,
   "metadata": {},
   "outputs": [],
   "source": [
    "X = dss31.iloc[:, 3:13].values\n",
    "y = dss31.iloc[:, 13].values"
   ]
  },
  {
   "cell_type": "code",
   "execution_count": 5,
   "metadata": {},
   "outputs": [],
   "source": [
    "# Encoding categorical data\n",
    "\n",
    "from sklearn.preprocessing import LabelEncoder, OneHotEncoder\n",
    "\n",
    "labelencoder_X_1 = LabelEncoder()\n",
    "X[:,1] = labelencoder_X_1.fit_transform(X[:, 1])\n",
    "labelencoder_X_2 = LabelEncoder()\n",
    "X[:,2] = labelencoder_X_2.fit_transform(X[:, 2])\n",
    "\n",
    "onehotencoder = OneHotEncoder(categorical_features = [1])\n",
    "X = onehotencoder.fit_transform(X).toarray()\n",
    "X = X[:, 1:]"
   ]
  },
  {
   "cell_type": "code",
   "execution_count": 6,
   "metadata": {},
   "outputs": [],
   "source": [
    "# Splitting the dataset into the Training set and Test set\n",
    "\n",
    "from sklearn.model_selection import train_test_split\n",
    "\n",
    "X_train, X_test, y_train, y_test = train_test_split(X, y, test_size = 0.2, random_state = 0)"
   ]
  },
  {
   "cell_type": "code",
   "execution_count": 7,
   "metadata": {},
   "outputs": [],
   "source": [
    "# Feature scaling\n",
    "\n",
    "from sklearn.preprocessing import StandardScaler\n",
    "\n",
    "sc = StandardScaler()\n",
    "X_train = sc.fit_transform(X_train) \n",
    "X_test =  sc.transform(X_test)"
   ]
  },
  {
   "cell_type": "code",
   "execution_count": 8,
   "metadata": {},
   "outputs": [
    {
     "data": {
      "text/plain": [
       "array([[-0.5698444 ,  1.74309049,  0.16958176, ...,  0.64259497,\n",
       "        -1.03227043,  1.10643166],\n",
       "       [ 1.75486502, -0.57369368, -2.30455945, ...,  0.64259497,\n",
       "         0.9687384 , -0.74866447],\n",
       "       [-0.5698444 , -0.57369368, -1.19119591, ...,  0.64259497,\n",
       "        -1.03227043,  1.48533467],\n",
       "       ..., \n",
       "       [-0.5698444 , -0.57369368,  0.9015152 , ...,  0.64259497,\n",
       "        -1.03227043,  1.41231994],\n",
       "       [-0.5698444 ,  1.74309049, -0.62420521, ...,  0.64259497,\n",
       "         0.9687384 ,  0.84432121],\n",
       "       [ 1.75486502, -0.57369368, -0.28401079, ...,  0.64259497,\n",
       "        -1.03227043,  0.32472465]])"
      ]
     },
     "execution_count": 8,
     "metadata": {},
     "output_type": "execute_result"
    }
   ],
   "source": [
    "X_train"
   ]
  },
  {
   "cell_type": "markdown",
   "metadata": {},
   "source": [
    "##### Part 2 - Making the ANN"
   ]
  },
  {
   "cell_type": "code",
   "execution_count": 9,
   "metadata": {},
   "outputs": [
    {
     "name": "stderr",
     "output_type": "stream",
     "text": [
      "Using TensorFlow backend.\n"
     ]
    }
   ],
   "source": [
    "# Importing the Keras libraries and packages\n",
    "\n",
    "import keras\n",
    "from keras.models import Sequential\n",
    "from keras.layers import Dense"
   ]
  },
  {
   "cell_type": "code",
   "execution_count": 10,
   "metadata": {},
   "outputs": [],
   "source": [
    "# Initialising the ANN\n",
    "\n",
    "classifier = Sequential()"
   ]
  },
  {
   "cell_type": "code",
   "execution_count": 11,
   "metadata": {},
   "outputs": [
    {
     "name": "stderr",
     "output_type": "stream",
     "text": [
      "C:\\Users\\rafae\\Anaconda3\\envs\\rafael\\lib\\site-packages\\ipykernel_launcher.py:6: UserWarning: Update your `Dense` call to the Keras 2 API: `Dense(activation=\"relu\", input_dim=11, units=6, kernel_initializer=\"uniform\")`\n",
      "  \n"
     ]
    }
   ],
   "source": [
    "# Adding the input layer and the first hidden layer\n",
    "\n",
    "# How manny nodes to include in the hidden layer? The $1 million dollar question -- there is no rule of thumb -- experiment.\n",
    "# A good starting point is the avarage number of the input layer and the output layer.\n",
    "\n",
    "classifier.add(Dense(output_dim = 6, init = 'uniform', activation = 'relu', input_dim = 11))"
   ]
  },
  {
   "cell_type": "code",
   "execution_count": 12,
   "metadata": {},
   "outputs": [
    {
     "name": "stderr",
     "output_type": "stream",
     "text": [
      "C:\\Users\\rafae\\Anaconda3\\envs\\rafael\\lib\\site-packages\\ipykernel_launcher.py:3: UserWarning: Update your `Dense` call to the Keras 2 API: `Dense(activation=\"relu\", units=6, kernel_initializer=\"uniform\")`\n",
      "  This is separate from the ipykernel package so we can avoid doing imports until\n"
     ]
    }
   ],
   "source": [
    "# Adding the second hidden layer\n",
    "\n",
    "classifier.add(Dense(output_dim = 6, init = 'uniform', activation = 'relu'))"
   ]
  },
  {
   "cell_type": "code",
   "execution_count": 13,
   "metadata": {},
   "outputs": [
    {
     "name": "stderr",
     "output_type": "stream",
     "text": [
      "C:\\Users\\rafae\\Anaconda3\\envs\\rafael\\lib\\site-packages\\ipykernel_launcher.py:3: UserWarning: Update your `Dense` call to the Keras 2 API: `Dense(activation=\"sigmoid\", units=1, kernel_initializer=\"uniform\")`\n",
      "  This is separate from the ipykernel package so we can avoid doing imports until\n"
     ]
    }
   ],
   "source": [
    "# Adding the output layer\n",
    "\n",
    "classifier.add(Dense(output_dim = 1, init = 'uniform', activation = 'sigmoid'))"
   ]
  },
  {
   "cell_type": "code",
   "execution_count": 14,
   "metadata": {},
   "outputs": [],
   "source": [
    "# Compiling the ANN\n",
    "\n",
    "classifier.compile(optimizer = 'adam', loss = 'binary_crossentropy', metrics = ['accuracy'])\n",
    "\n",
    "# Adam is a type of stochastic gradient descent"
   ]
  },
  {
   "cell_type": "code",
   "execution_count": 15,
   "metadata": {},
   "outputs": [
    {
     "name": "stderr",
     "output_type": "stream",
     "text": [
      "C:\\Users\\rafae\\Anaconda3\\envs\\rafael\\lib\\site-packages\\keras\\models.py:942: UserWarning: The `nb_epoch` argument in `fit` has been renamed `epochs`.\n",
      "  warnings.warn('The `nb_epoch` argument in `fit` '\n"
     ]
    },
    {
     "name": "stdout",
     "output_type": "stream",
     "text": [
      "Epoch 1/100\n",
      "8000/8000 [==============================] - 2s 277us/step - loss: 0.4879 - acc: 0.7966\n",
      "Epoch 2/100\n",
      "8000/8000 [==============================] - 2s 189us/step - loss: 0.4071 - acc: 0.8124\n",
      "Epoch 3/100\n",
      "8000/8000 [==============================] - 2s 191us/step - loss: 0.3794 - acc: 0.8355\n",
      "Epoch 4/100\n",
      "8000/8000 [==============================] - 2s 209us/step - loss: 0.3603 - acc: 0.8526\n",
      "Epoch 5/100\n",
      "8000/8000 [==============================] - 2s 197us/step - loss: 0.3515 - acc: 0.8564\n",
      "Epoch 6/100\n",
      "8000/8000 [==============================] - 2s 200us/step - loss: 0.3477 - acc: 0.8609\n",
      "Epoch 7/100\n",
      "8000/8000 [==============================] - 2s 193us/step - loss: 0.3453 - acc: 0.8572\n",
      "Epoch 8/100\n",
      "8000/8000 [==============================] - 2s 201us/step - loss: 0.3447 - acc: 0.8604\n",
      "Epoch 9/100\n",
      "8000/8000 [==============================] - 2s 196us/step - loss: 0.3432 - acc: 0.8596\n",
      "Epoch 10/100\n",
      "8000/8000 [==============================] - 2s 194us/step - loss: 0.3420 - acc: 0.8606\n",
      "Epoch 11/100\n",
      "8000/8000 [==============================] - 2s 202us/step - loss: 0.3416 - acc: 0.8599\n",
      "Epoch 12/100\n",
      "8000/8000 [==============================] - 1s 185us/step - loss: 0.3408 - acc: 0.8601\n",
      "Epoch 13/100\n",
      "8000/8000 [==============================] - 2s 197us/step - loss: 0.3399 - acc: 0.8599\n",
      "Epoch 14/100\n",
      "8000/8000 [==============================] - 2s 209us/step - loss: 0.3402 - acc: 0.8606\n",
      "Epoch 15/100\n",
      "8000/8000 [==============================] - 2s 188us/step - loss: 0.3395 - acc: 0.8620\n",
      "Epoch 16/100\n",
      "8000/8000 [==============================] - 2s 195us/step - loss: 0.3391 - acc: 0.8616\n",
      "Epoch 17/100\n",
      "8000/8000 [==============================] - 2s 189us/step - loss: 0.3390 - acc: 0.8605\n",
      "Epoch 18/100\n",
      "8000/8000 [==============================] - 2s 201us/step - loss: 0.3387 - acc: 0.8620\n",
      "Epoch 19/100\n",
      "8000/8000 [==============================] - 2s 204us/step - loss: 0.3378 - acc: 0.8614\n",
      "Epoch 20/100\n",
      "8000/8000 [==============================] - 2s 205us/step - loss: 0.3372 - acc: 0.8632\n",
      "Epoch 21/100\n",
      "8000/8000 [==============================] - 2s 194us/step - loss: 0.3381 - acc: 0.8621\n",
      "Epoch 22/100\n",
      "8000/8000 [==============================] - 2s 198us/step - loss: 0.3369 - acc: 0.8605\n",
      "Epoch 23/100\n",
      "8000/8000 [==============================] - 2s 201us/step - loss: 0.3377 - acc: 0.8625\n",
      "Epoch 24/100\n",
      "8000/8000 [==============================] - 2s 209us/step - loss: 0.3374 - acc: 0.8626\n",
      "Epoch 25/100\n",
      "8000/8000 [==============================] - 2s 206us/step - loss: 0.3375 - acc: 0.8602\n",
      "Epoch 26/100\n",
      "8000/8000 [==============================] - 2s 192us/step - loss: 0.3369 - acc: 0.8620\n",
      "Epoch 27/100\n",
      "8000/8000 [==============================] - 2s 194us/step - loss: 0.3370 - acc: 0.8600\n",
      "Epoch 28/100\n",
      "8000/8000 [==============================] - 1s 185us/step - loss: 0.3368 - acc: 0.8604\n",
      "Epoch 29/100\n",
      "8000/8000 [==============================] - 1s 171us/step - loss: 0.3358 - acc: 0.8631\n",
      "Epoch 30/100\n",
      "8000/8000 [==============================] - 1s 170us/step - loss: 0.3361 - acc: 0.8625\n",
      "Epoch 31/100\n",
      "8000/8000 [==============================] - 1s 146us/step - loss: 0.3364 - acc: 0.8630\n",
      "Epoch 32/100\n",
      "8000/8000 [==============================] - 1s 177us/step - loss: 0.3361 - acc: 0.8606\n",
      "Epoch 33/100\n",
      "8000/8000 [==============================] - 1s 174us/step - loss: 0.3369 - acc: 0.8621\n",
      "Epoch 34/100\n",
      "8000/8000 [==============================] - 1s 166us/step - loss: 0.3361 - acc: 0.8645\n",
      "Epoch 35/100\n",
      "8000/8000 [==============================] - 1s 148us/step - loss: 0.3354 - acc: 0.8619\n",
      "Epoch 36/100\n",
      "8000/8000 [==============================] - 1s 162us/step - loss: 0.3362 - acc: 0.8625\n",
      "Epoch 37/100\n",
      "8000/8000 [==============================] - 1s 177us/step - loss: 0.3359 - acc: 0.8615\n",
      "Epoch 38/100\n",
      "8000/8000 [==============================] - 2s 197us/step - loss: 0.3359 - acc: 0.8627\n",
      "Epoch 39/100\n",
      "8000/8000 [==============================] - 2s 190us/step - loss: 0.3354 - acc: 0.8614\n",
      "Epoch 40/100\n",
      "8000/8000 [==============================] - 2s 193us/step - loss: 0.3354 - acc: 0.8631\n",
      "Epoch 41/100\n",
      "8000/8000 [==============================] - 1s 183us/step - loss: 0.3357 - acc: 0.8626\n",
      "Epoch 42/100\n",
      "8000/8000 [==============================] - 2s 196us/step - loss: 0.3358 - acc: 0.8631\n",
      "Epoch 43/100\n",
      "8000/8000 [==============================] - 2s 201us/step - loss: 0.3353 - acc: 0.8640\n",
      "Epoch 44/100\n",
      "8000/8000 [==============================] - 1s 176us/step - loss: 0.3350 - acc: 0.8626\n",
      "Epoch 45/100\n",
      "8000/8000 [==============================] - 1s 160us/step - loss: 0.3356 - acc: 0.8645\n",
      "Epoch 46/100\n",
      "8000/8000 [==============================] - 1s 177us/step - loss: 0.3352 - acc: 0.8630\n",
      "Epoch 47/100\n",
      "8000/8000 [==============================] - 1s 159us/step - loss: 0.3350 - acc: 0.8635\n",
      "Epoch 48/100\n",
      "8000/8000 [==============================] - 1s 142us/step - loss: 0.3353 - acc: 0.8622\n",
      "Epoch 49/100\n",
      "8000/8000 [==============================] - 1s 131us/step - loss: 0.3352 - acc: 0.8641\n",
      "Epoch 50/100\n",
      "8000/8000 [==============================] - 1s 180us/step - loss: 0.3345 - acc: 0.8635\n",
      "Epoch 51/100\n",
      "8000/8000 [==============================] - 1s 184us/step - loss: 0.3352 - acc: 0.8636\n",
      "Epoch 52/100\n",
      "8000/8000 [==============================] - 1s 169us/step - loss: 0.3352 - acc: 0.8639 0s - loss: 0.3347 - acc: 0.86\n",
      "Epoch 53/100\n",
      "8000/8000 [==============================] - 1s 179us/step - loss: 0.3347 - acc: 0.8646\n",
      "Epoch 54/100\n",
      "8000/8000 [==============================] - 1s 150us/step - loss: 0.3350 - acc: 0.8627\n",
      "Epoch 55/100\n",
      "8000/8000 [==============================] - 1s 137us/step - loss: 0.3348 - acc: 0.8637\n",
      "Epoch 56/100\n",
      "8000/8000 [==============================] - 1s 146us/step - loss: 0.3339 - acc: 0.8654 0s - loss\n",
      "Epoch 57/100\n",
      "8000/8000 [==============================] - 1s 160us/step - loss: 0.3348 - acc: 0.8634\n",
      "Epoch 58/100\n",
      "8000/8000 [==============================] - 1s 178us/step - loss: 0.3352 - acc: 0.8636\n",
      "Epoch 59/100\n",
      "8000/8000 [==============================] - 1s 178us/step - loss: 0.3345 - acc: 0.8619\n",
      "Epoch 60/100\n",
      "8000/8000 [==============================] - 1s 174us/step - loss: 0.3351 - acc: 0.8646\n",
      "Epoch 61/100\n",
      "8000/8000 [==============================] - 2s 193us/step - loss: 0.3344 - acc: 0.8632\n",
      "Epoch 62/100\n",
      "8000/8000 [==============================] - 1s 182us/step - loss: 0.3349 - acc: 0.8632\n",
      "Epoch 63/100\n",
      "8000/8000 [==============================] - 1s 129us/step - loss: 0.3347 - acc: 0.8630\n",
      "Epoch 64/100\n",
      "8000/8000 [==============================] - 1s 163us/step - loss: 0.3341 - acc: 0.8625\n",
      "Epoch 65/100\n",
      "8000/8000 [==============================] - 1s 149us/step - loss: 0.3352 - acc: 0.8624\n",
      "Epoch 66/100\n",
      "8000/8000 [==============================] - 1s 145us/step - loss: 0.3346 - acc: 0.8635\n",
      "Epoch 67/100\n",
      "8000/8000 [==============================] - 2s 192us/step - loss: 0.3346 - acc: 0.8636\n",
      "Epoch 68/100\n",
      "8000/8000 [==============================] - 1s 177us/step - loss: 0.3344 - acc: 0.8632\n",
      "Epoch 69/100\n",
      "8000/8000 [==============================] - 1s 164us/step - loss: 0.3340 - acc: 0.8636\n",
      "Epoch 70/100\n",
      "8000/8000 [==============================] - 1s 165us/step - loss: 0.3342 - acc: 0.8631\n",
      "Epoch 71/100\n",
      "8000/8000 [==============================] - 1s 186us/step - loss: 0.3339 - acc: 0.8640\n",
      "Epoch 72/100\n",
      "8000/8000 [==============================] - 1s 147us/step - loss: 0.3350 - acc: 0.8626\n",
      "Epoch 73/100\n",
      "8000/8000 [==============================] - 1s 137us/step - loss: 0.3345 - acc: 0.8632\n",
      "Epoch 74/100\n",
      "8000/8000 [==============================] - 1s 143us/step - loss: 0.3346 - acc: 0.8645\n",
      "Epoch 75/100\n",
      "8000/8000 [==============================] - 1s 152us/step - loss: 0.3348 - acc: 0.8634\n",
      "Epoch 76/100\n",
      "8000/8000 [==============================] - 2s 196us/step - loss: 0.3330 - acc: 0.8661\n",
      "Epoch 77/100\n",
      "8000/8000 [==============================] - 2s 213us/step - loss: 0.3345 - acc: 0.8634\n",
      "Epoch 78/100\n",
      "8000/8000 [==============================] - 2s 197us/step - loss: 0.3344 - acc: 0.8634\n",
      "Epoch 79/100\n",
      "8000/8000 [==============================] - 2s 201us/step - loss: 0.3344 - acc: 0.8641\n",
      "Epoch 80/100\n",
      "8000/8000 [==============================] - 2s 198us/step - loss: 0.3342 - acc: 0.8645\n",
      "Epoch 81/100\n"
     ]
    },
    {
     "name": "stdout",
     "output_type": "stream",
     "text": [
      "8000/8000 [==============================] - 2s 205us/step - loss: 0.3339 - acc: 0.8639\n",
      "Epoch 82/100\n",
      "8000/8000 [==============================] - 2s 210us/step - loss: 0.3340 - acc: 0.8657\n",
      "Epoch 83/100\n",
      "8000/8000 [==============================] - 2s 212us/step - loss: 0.3338 - acc: 0.8626\n",
      "Epoch 84/100\n",
      "8000/8000 [==============================] - 2s 210us/step - loss: 0.3343 - acc: 0.8629\n",
      "Epoch 85/100\n",
      "8000/8000 [==============================] - 2s 208us/step - loss: 0.3342 - acc: 0.8639\n",
      "Epoch 86/100\n",
      "8000/8000 [==============================] - 2s 211us/step - loss: 0.3344 - acc: 0.8641\n",
      "Epoch 87/100\n",
      "8000/8000 [==============================] - 2s 224us/step - loss: 0.3342 - acc: 0.8632\n",
      "Epoch 88/100\n",
      "8000/8000 [==============================] - 2s 195us/step - loss: 0.3346 - acc: 0.8637\n",
      "Epoch 89/100\n",
      "8000/8000 [==============================] - 2s 207us/step - loss: 0.3340 - acc: 0.8631\n",
      "Epoch 90/100\n",
      "8000/8000 [==============================] - 2s 213us/step - loss: 0.3342 - acc: 0.8635\n",
      "Epoch 91/100\n",
      "8000/8000 [==============================] - 2s 204us/step - loss: 0.3341 - acc: 0.8635\n",
      "Epoch 92/100\n",
      "8000/8000 [==============================] - 2s 196us/step - loss: 0.3340 - acc: 0.8634\n",
      "Epoch 93/100\n",
      "8000/8000 [==============================] - 2s 211us/step - loss: 0.3346 - acc: 0.8646\n",
      "Epoch 94/100\n",
      "8000/8000 [==============================] - 2s 209us/step - loss: 0.3344 - acc: 0.8624\n",
      "Epoch 95/100\n",
      "8000/8000 [==============================] - 2s 203us/step - loss: 0.3336 - acc: 0.8636\n",
      "Epoch 96/100\n",
      "8000/8000 [==============================] - 2s 202us/step - loss: 0.3336 - acc: 0.8642\n",
      "Epoch 97/100\n",
      "8000/8000 [==============================] - 2s 221us/step - loss: 0.3343 - acc: 0.8642\n",
      "Epoch 98/100\n",
      "8000/8000 [==============================] - 2s 206us/step - loss: 0.3343 - acc: 0.8636\n",
      "Epoch 99/100\n",
      "8000/8000 [==============================] - 2s 204us/step - loss: 0.3343 - acc: 0.8632\n",
      "Epoch 100/100\n",
      "8000/8000 [==============================] - 2s 188us/step - loss: 0.3336 - acc: 0.8644\n"
     ]
    },
    {
     "data": {
      "text/plain": [
       "<keras.callbacks.History at 0x1c3167db048>"
      ]
     },
     "execution_count": 15,
     "metadata": {},
     "output_type": "execute_result"
    }
   ],
   "source": [
    "# Fitting the ANN to the Training set\n",
    "\n",
    "classifier.fit(X_train, y_train, batch_size = 10, nb_epoch = 100)"
   ]
  },
  {
   "cell_type": "markdown",
   "metadata": {},
   "source": [
    "##### Part 3 - Making the predictions and evaluating the model"
   ]
  },
  {
   "cell_type": "code",
   "execution_count": 16,
   "metadata": {},
   "outputs": [],
   "source": [
    "# Predicting the Test set results\n",
    "\n",
    "y_pred = classifier.predict(X_test)"
   ]
  },
  {
   "cell_type": "code",
   "execution_count": 17,
   "metadata": {},
   "outputs": [
    {
     "data": {
      "text/plain": [
       "array([[ 0.31195754],\n",
       "       [ 0.3014726 ],\n",
       "       [ 0.17673841],\n",
       "       ..., \n",
       "       [ 0.29019096],\n",
       "       [ 0.18440339],\n",
       "       [ 0.24251905]], dtype=float32)"
      ]
     },
     "execution_count": 17,
     "metadata": {},
     "output_type": "execute_result"
    }
   ],
   "source": [
    "y_pred"
   ]
  },
  {
   "cell_type": "code",
   "execution_count": 18,
   "metadata": {},
   "outputs": [],
   "source": [
    "y_pred = (y_pred > 0.5)"
   ]
  },
  {
   "cell_type": "code",
   "execution_count": 19,
   "metadata": {},
   "outputs": [
    {
     "data": {
      "text/plain": [
       "array([[1514,   81],\n",
       "       [ 200,  205]], dtype=int64)"
      ]
     },
     "execution_count": 19,
     "metadata": {},
     "output_type": "execute_result"
    }
   ],
   "source": [
    "# Making the confusion matrix\n",
    "from sklearn.metrics import confusion_matrix\n",
    "cm = confusion_matrix(y_test, y_pred)\n",
    "cm"
   ]
  },
  {
   "cell_type": "code",
   "execution_count": 22,
   "metadata": {},
   "outputs": [
    {
     "data": {
      "text/plain": [
       "0.8595"
      ]
     },
     "execution_count": 22,
     "metadata": {},
     "output_type": "execute_result"
    }
   ],
   "source": [
    "(1514 + 205)/2000"
   ]
  },
  {
   "cell_type": "code",
   "execution_count": null,
   "metadata": {},
   "outputs": [],
   "source": []
  },
  {
   "cell_type": "markdown",
   "metadata": {},
   "source": [
    "### Seção 32 | Convolutional Neural Networks"
   ]
  },
  {
   "cell_type": "markdown",
   "metadata": {},
   "source": [
    "##### Part 1 - Building the CNN"
   ]
  },
  {
   "cell_type": "code",
   "execution_count": 23,
   "metadata": {},
   "outputs": [],
   "source": [
    "# Importing the Keras libraries and packages\n",
    "\n",
    "# Each package corresponds to one step of the construction of the CNN\n",
    "\n",
    "import keras\n",
    "from keras.models import Sequential\n",
    "from keras.layers import Convolution2D\n",
    "from keras.layers import MaxPooling2D\n",
    "from keras.layers import Flatten\n",
    "from keras.layers import Dense"
   ]
  },
  {
   "cell_type": "code",
   "execution_count": 24,
   "metadata": {},
   "outputs": [],
   "source": [
    "# Initialising the CNN\n",
    "\n",
    "classifier = Sequential()"
   ]
  },
  {
   "cell_type": "code",
   "execution_count": 25,
   "metadata": {},
   "outputs": [
    {
     "name": "stderr",
     "output_type": "stream",
     "text": [
      "C:\\Users\\rafae\\Anaconda3\\envs\\rafael\\lib\\site-packages\\ipykernel_launcher.py:3: UserWarning: Update your `Conv2D` call to the Keras 2 API: `Conv2D(32, (3, 3), input_shape=(64, 64, 3..., activation=\"relu\")`\n",
      "  This is separate from the ipykernel package so we can avoid doing imports until\n"
     ]
    }
   ],
   "source": [
    "# Step 1 - Convolution\n",
    "\n",
    "classifier.add(Convolution2D(32, 3, 3, input_shape = (64, 64, 3), activation = 'relu'))"
   ]
  },
  {
   "cell_type": "code",
   "execution_count": 26,
   "metadata": {},
   "outputs": [],
   "source": [
    "# Step 2 - Pooling\n",
    "\n",
    "classifier.add(MaxPooling2D(pool_size = (2,2)))"
   ]
  },
  {
   "cell_type": "code",
   "execution_count": 27,
   "metadata": {},
   "outputs": [],
   "source": [
    "# Step 3 - Flattening\n",
    "\n",
    "classifier.add(Flatten())"
   ]
  },
  {
   "cell_type": "code",
   "execution_count": 28,
   "metadata": {},
   "outputs": [
    {
     "name": "stderr",
     "output_type": "stream",
     "text": [
      "C:\\Users\\rafae\\Anaconda3\\envs\\rafael\\lib\\site-packages\\ipykernel_launcher.py:3: UserWarning: Update your `Dense` call to the Keras 2 API: `Dense(activation=\"relu\", units=128)`\n",
      "  This is separate from the ipykernel package so we can avoid doing imports until\n",
      "C:\\Users\\rafae\\Anaconda3\\envs\\rafael\\lib\\site-packages\\ipykernel_launcher.py:4: UserWarning: Update your `Dense` call to the Keras 2 API: `Dense(activation=\"sigmoid\", units=1)`\n",
      "  after removing the cwd from sys.path.\n"
     ]
    }
   ],
   "source": [
    "# Step 4 - Full connection\n",
    "\n",
    "classifier.add(Dense(output_dim = 128, activation = 'relu'))\n",
    "classifier.add(Dense(output_dim = 1, activation = 'sigmoid'))"
   ]
  },
  {
   "cell_type": "code",
   "execution_count": 29,
   "metadata": {},
   "outputs": [],
   "source": [
    "# Compiling the CNN\n",
    "\n",
    "classifier.compile(optimizer = 'adam', loss = 'binary_crossentropy', metrics = ['accuracy'])"
   ]
  },
  {
   "cell_type": "markdown",
   "metadata": {},
   "source": [
    "##### Part 2 - Building the CNN"
   ]
  },
  {
   "cell_type": "code",
   "execution_count": 35,
   "metadata": {},
   "outputs": [
    {
     "name": "stdout",
     "output_type": "stream",
     "text": [
      "Found 8000 images belonging to 2 classes.\n",
      "Found 2000 images belonging to 2 classes.\n",
      "Epoch 1/25\n",
      "8000/8000 [==============================] - 2683s 335ms/step - loss: 0.3445 - acc: 0.8431 - val_loss: 0.8036 - val_acc: 0.7602\n",
      "Epoch 2/25\n",
      "8000/8000 [==============================] - 2425s 303ms/step - loss: 0.1234 - acc: 0.9533 - val_loss: 1.1727 - val_acc: 0.7511\n",
      "Epoch 3/25\n",
      "8000/8000 [==============================] - 2428s 303ms/step - loss: 0.0678 - acc: 0.9761 - val_loss: 1.4013 - val_acc: 0.7654\n",
      "Epoch 4/25\n",
      "8000/8000 [==============================] - 2194s 274ms/step - loss: 0.0473 - acc: 0.9840 - val_loss: 1.6247 - val_acc: 0.7601\n",
      "Epoch 5/25\n",
      "8000/8000 [==============================] - 2170s 271ms/step - loss: 0.0382 - acc: 0.9873 - val_loss: 1.8335 - val_acc: 0.7464\n",
      "Epoch 6/25\n",
      "8000/8000 [==============================] - 2779s 347ms/step - loss: 0.0320 - acc: 0.9895 - val_loss: 1.7399 - val_acc: 0.7680\n",
      "Epoch 7/25\n",
      "8000/8000 [==============================] - 2319s 290ms/step - loss: 0.0271 - acc: 0.9911 - val_loss: 1.7529 - val_acc: 0.7634\n",
      "Epoch 8/25\n",
      "8000/8000 [==============================] - 2272s 284ms/step - loss: 0.0244 - acc: 0.9922 - val_loss: 1.7959 - val_acc: 0.7640\n",
      "Epoch 9/25\n",
      "8000/8000 [==============================] - 2219s 277ms/step - loss: 0.0210 - acc: 0.9933 - val_loss: 1.8503 - val_acc: 0.7573\n",
      "Epoch 10/25\n",
      "8000/8000 [==============================] - 2271s 284ms/step - loss: 0.0205 - acc: 0.9937 - val_loss: 1.9219 - val_acc: 0.7530\n",
      "Epoch 11/25\n",
      "8000/8000 [==============================] - 2294s 287ms/step - loss: 0.0183 - acc: 0.9942 - val_loss: 1.9386 - val_acc: 0.7611\n",
      "Epoch 12/25\n",
      "8000/8000 [==============================] - 2313s 289ms/step - loss: 0.0162 - acc: 0.9948 - val_loss: 2.4167 - val_acc: 0.7434\n",
      "Epoch 13/25\n",
      "8000/8000 [==============================] - 2288s 286ms/step - loss: 0.0149 - acc: 0.9953 - val_loss: 2.0486 - val_acc: 0.7576\n",
      "Epoch 14/25\n",
      "8000/8000 [==============================] - 2313s 289ms/step - loss: 0.0143 - acc: 0.9955 - val_loss: 2.0685 - val_acc: 0.7657\n",
      "Epoch 15/25\n",
      "8000/8000 [==============================] - 2281s 285ms/step - loss: 0.0136 - acc: 0.9959 - val_loss: 2.1418 - val_acc: 0.7655\n",
      "Epoch 16/25\n",
      "8000/8000 [==============================] - 2298s 287ms/step - loss: 0.0135 - acc: 0.9959 - val_loss: 2.2397 - val_acc: 0.7631\n",
      "Epoch 17/25\n",
      "8000/8000 [==============================] - 2280s 285ms/step - loss: 0.0123 - acc: 0.9964 - val_loss: 2.1290 - val_acc: 0.7651\n",
      "Epoch 18/25\n",
      "8000/8000 [==============================] - 2295s 287ms/step - loss: 0.0110 - acc: 0.9968 - val_loss: 2.2638 - val_acc: 0.7484\n",
      "Epoch 19/25\n",
      "8000/8000 [==============================] - 2303s 288ms/step - loss: 0.0107 - acc: 0.9969 - val_loss: 2.2297 - val_acc: 0.7581\n",
      "Epoch 20/25\n",
      "8000/8000 [==============================] - 2324s 291ms/step - loss: 0.0102 - acc: 0.9970 - val_loss: 2.2167 - val_acc: 0.7619\n",
      "Epoch 21/25\n",
      "8000/8000 [==============================] - 2280s 285ms/step - loss: 0.0094 - acc: 0.9970 - val_loss: 2.3303 - val_acc: 0.7636\n",
      "Epoch 22/25\n",
      "8000/8000 [==============================] - 2270s 284ms/step - loss: 0.0092 - acc: 0.9972 - val_loss: 2.3857 - val_acc: 0.7542\n",
      "Epoch 23/25\n",
      "8000/8000 [==============================] - 2130s 266ms/step - loss: 0.0091 - acc: 0.9974 - val_loss: 2.4200 - val_acc: 0.7532\n",
      "Epoch 24/25\n",
      "8000/8000 [==============================] - 2173s 272ms/step - loss: 0.0089 - acc: 0.9974 - val_loss: 2.2312 - val_acc: 0.7554\n",
      "Epoch 25/25\n",
      "8000/8000 [==============================] - 2164s 271ms/step - loss: 0.0083 - acc: 0.9975 - val_loss: 2.4101 - val_acc: 0.7512\n"
     ]
    },
    {
     "data": {
      "text/plain": [
       "<keras.callbacks.History at 0x1c317024cf8>"
      ]
     },
     "execution_count": 35,
     "metadata": {},
     "output_type": "execute_result"
    }
   ],
   "source": [
    "# https://keras.io/preprocessing/image/\n",
    "\n",
    "from keras.preprocessing.image import ImageDataGenerator\n",
    "\n",
    "train_datagen = ImageDataGenerator(\n",
    "        rescale=1./255,\n",
    "        shear_range=0.2,\n",
    "        zoom_range=0.2,\n",
    "        horizontal_flip=True)\n",
    "\n",
    "test_datagen = ImageDataGenerator(rescale=1./255)\n",
    "\n",
    "training_set = train_datagen.flow_from_directory('C:\\\\Users\\\\rafae\\\\GitHub\\\\udemy_machinelearning_a_to_z\\\\data\\\\Convolutional_Neural_Networks\\\\dataset\\\\training_set',\n",
    "                                                target_size=(64, 64),\n",
    "                                                batch_size=32,\n",
    "                                                class_mode='binary')\n",
    "\n",
    "test_set = test_datagen.flow_from_directory('C:\\\\Users\\\\rafae\\\\GitHub\\\\udemy_machinelearning_a_to_z\\\\data\\\\Convolutional_Neural_Networks\\\\dataset\\\\test_set',\n",
    "                                            target_size=(64, 64),\n",
    "                                            batch_size=32,\n",
    "                                            class_mode='binary')\n",
    "\n",
    "classifier.fit_generator(training_set,\n",
    "                    steps_per_epoch=8000,\n",
    "                    epochs=25,\n",
    "                    validation_data=test_set,\n",
    "                    validation_steps=2000)"
   ]
  },
  {
   "cell_type": "code",
   "execution_count": null,
   "metadata": {},
   "outputs": [],
   "source": [
    "# Adding 1 more layer to improve the accuracy:\n",
    "\n",
    "#classifier_deeper = Sequential()\n",
    "#classifier_deeper.add(Convolution2D(32, 3, 3, input_shape = (64, 64, 3), activation = 'relu'))\n",
    "#classifier_deeper.add(MaxPooling2D(pool_size = (2,2)))\n",
    "\n",
    "## Adding a 2nd convolutional layer\n",
    "#classifier_deeper.add(Convolution2D(32, 3, 3, activation = 'relu'))\n",
    "#classifier_deeper.add(MaxPooling2D(pool_size = (2,2)))\n",
    "\n",
    "#classifier.add(Flatten())\n",
    "#classifier.add(Dense(output_dim = 128, activation = 'relu'))\n",
    "#classifier.add(Dense(output_dim = 1, activation = 'sigmoid'))\n",
    "#classifier.compile(optimizer = 'adam', loss = 'binary_crossentropy', metrics = ['accuracy'])\n",
    "\n",
    "#from keras.preprocessing.image import ImageDataGenerator\n",
    "\n",
    "#train_datagen = ImageDataGenerator(\n",
    "#        rescale=1./255,\n",
    "#        shear_range=0.2,\n",
    "#        zoom_range=0.2,\n",
    "#        horizontal_flip=True)\n",
    "\n",
    "#test_datagen = ImageDataGenerator(rescale=1./255)\n",
    "\n",
    "#training_set = train_datagen.flow_from_directory('C:\\\\Users\\\\rafae\\\\GitHub\\\\udemy_machinelearning_a_to_z\\\\data\\\\Convolutional_Neural_Networks\\\\dataset\\\\training_set',\n",
    "#                                                target_size=(64, 64),\n",
    "#                                                batch_size=32,\n",
    "#                                                class_mode='binary')\n",
    "\n",
    "#test_set = test_datagen.flow_from_directory('C:\\\\Users\\\\rafae\\\\GitHub\\\\udemy_machinelearning_a_to_z\\\\data\\\\Convolutional_Neural_Networks\\\\dataset\\\\test_set',\n",
    "#                                            target_size=(64, 64),\n",
    "#                                            batch_size=32,\n",
    "#                                            class_mode='binary')\n",
    "\n",
    "#classifier.fit_generator(training_set,\n",
    "#                    steps_per_epoch=8000,\n",
    "#                    epochs=25,\n",
    "#                    validation_data=test_set,\n",
    "#                    validation_steps=2000)"
   ]
  }
 ],
 "metadata": {
  "kernelspec": {
   "display_name": "Python 3",
   "language": "python",
   "name": "python3"
  },
  "language_info": {
   "codemirror_mode": {
    "name": "ipython",
    "version": 3
   },
   "file_extension": ".py",
   "mimetype": "text/x-python",
   "name": "python",
   "nbconvert_exporter": "python",
   "pygments_lexer": "ipython3",
   "version": "3.6.5"
  }
 },
 "nbformat": 4,
 "nbformat_minor": 2
}
